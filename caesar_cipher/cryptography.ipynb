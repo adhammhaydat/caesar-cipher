{
 "cells": [
  {
   "cell_type": "code",
   "execution_count": 1,
   "metadata": {},
   "outputs": [
    {
     "name": "stdout",
     "output_type": "stream",
     "text": [
      "0000 0\n",
      "1111 1\n",
      "2222 2\n",
      "3333 3\n",
      "4444 4\n",
      "5555 5\n",
      "6666 6\n",
      "7777 7\n",
      "8888 8\n",
      "9999 9\n",
      "0000 10\n",
      "1111 11\n",
      "2222 12\n",
      "3333 13\n",
      "4444 14\n",
      "5555 15\n",
      "6666 16\n",
      "7777 17\n",
      "8888 18\n",
      "9999 19\n",
      "0000 20\n"
     ]
    }
   ],
   "source": [
    "# def encrypt(m, k):\n",
    "#     cipher = \"\"\n",
    "#     for char in m:\n",
    "#         char_num = int(char)\n",
    "#         shifted_num = char_num + k\n",
    "#         mod_num = shifted_num % 10\n",
    "#         cipher += str(mod_num)\n",
    "#     return cipher\n",
    "\n",
    "# def decrypt(c, k):\n",
    "#     return encrypt(c, -k)\n",
    "\n",
    "# for i in range(21):\n",
    "#     print(encrypt(\"0000\", i), i)"
   ]
  },
  {
   "cell_type": "code",
   "execution_count": 2,
   "metadata": {},
   "outputs": [
    {
     "ename": "ValueError",
     "evalue": "invalid literal for int() with base 10: 'N'",
     "output_type": "error",
     "traceback": [
      "\u001b[0;31m---------------------------------------------------------------------------\u001b[0m",
      "\u001b[0;31mValueError\u001b[0m                                Traceback (most recent call last)",
      "\u001b[0;32m/tmp/ipykernel_18104/2736362316.py\u001b[0m in \u001b[0;36m<module>\u001b[0;34m\u001b[0m\n\u001b[1;32m      1\u001b[0m \u001b[0mcipher_text\u001b[0m \u001b[0;34m=\u001b[0m \u001b[0;34m\"UPJL AVWPJ\"\u001b[0m\u001b[0;34m\u001b[0m\u001b[0;34m\u001b[0m\u001b[0m\n\u001b[0;32m----> 2\u001b[0;31m \u001b[0mprint\u001b[0m\u001b[0;34m(\u001b[0m\u001b[0mencrypt\u001b[0m\u001b[0;34m(\u001b[0m\u001b[0;34m\"Nice Topic\"\u001b[0m\u001b[0;34m,\u001b[0m\u001b[0;36m7\u001b[0m\u001b[0;34m)\u001b[0m\u001b[0;34m)\u001b[0m\u001b[0;34m\u001b[0m\u001b[0;34m\u001b[0m\u001b[0m\n\u001b[0m\u001b[1;32m      3\u001b[0m \u001b[0;34m\u001b[0m\u001b[0m\n\u001b[1;32m      4\u001b[0m \u001b[0;32mdef\u001b[0m \u001b[0mencrypt\u001b[0m\u001b[0;34m(\u001b[0m\u001b[0mm\u001b[0m\u001b[0;34m,\u001b[0m \u001b[0mk\u001b[0m\u001b[0;34m)\u001b[0m\u001b[0;34m:\u001b[0m\u001b[0;34m\u001b[0m\u001b[0;34m\u001b[0m\u001b[0m\n\u001b[1;32m      5\u001b[0m     \u001b[0moffset\u001b[0m \u001b[0;34m=\u001b[0m \u001b[0;36m65\u001b[0m \u001b[0;31m# A\u001b[0m\u001b[0;34m\u001b[0m\u001b[0;34m\u001b[0m\u001b[0m\n",
      "\u001b[0;32m/tmp/ipykernel_18104/869243094.py\u001b[0m in \u001b[0;36mencrypt\u001b[0;34m(m, k)\u001b[0m\n\u001b[1;32m      2\u001b[0m     \u001b[0mcipher\u001b[0m \u001b[0;34m=\u001b[0m \u001b[0;34m\"\"\u001b[0m\u001b[0;34m\u001b[0m\u001b[0;34m\u001b[0m\u001b[0m\n\u001b[1;32m      3\u001b[0m     \u001b[0;32mfor\u001b[0m \u001b[0mchar\u001b[0m \u001b[0;32min\u001b[0m \u001b[0mm\u001b[0m\u001b[0;34m:\u001b[0m\u001b[0;34m\u001b[0m\u001b[0;34m\u001b[0m\u001b[0m\n\u001b[0;32m----> 4\u001b[0;31m         \u001b[0mchar_num\u001b[0m \u001b[0;34m=\u001b[0m \u001b[0mint\u001b[0m\u001b[0;34m(\u001b[0m\u001b[0mchar\u001b[0m\u001b[0;34m)\u001b[0m\u001b[0;34m\u001b[0m\u001b[0;34m\u001b[0m\u001b[0m\n\u001b[0m\u001b[1;32m      5\u001b[0m         \u001b[0mshifted_num\u001b[0m \u001b[0;34m=\u001b[0m \u001b[0mchar_num\u001b[0m \u001b[0;34m+\u001b[0m \u001b[0mk\u001b[0m\u001b[0;34m\u001b[0m\u001b[0;34m\u001b[0m\u001b[0m\n\u001b[1;32m      6\u001b[0m         \u001b[0mmod_num\u001b[0m \u001b[0;34m=\u001b[0m \u001b[0mshifted_num\u001b[0m \u001b[0;34m%\u001b[0m \u001b[0;36m10\u001b[0m\u001b[0;34m\u001b[0m\u001b[0;34m\u001b[0m\u001b[0m\n",
      "\u001b[0;31mValueError\u001b[0m: invalid literal for int() with base 10: 'N'"
     ]
    }
   ],
   "source": [
    "# cipher_text = \"UPJL AVWPJ\"\n",
    "# print(encrypt(\"Nice Topic\",7))\n",
    "\n",
    "# def encrypt(m, k):\n",
    "#     offset = 65 # A\n",
    "#     words = m.split()\n",
    "#     cipher_words = []\n",
    "#     for word in words:\n",
    "#         cipher = \"\"\n",
    "#         for char in word:\n",
    "#             char_num = ord(char.upper())\n",
    "#             shifted_num = char_num + k - offset\n",
    "#             mod_num = shifted_num % 26 + offset\n",
    "#             cipher += chr(mod_num)\n",
    "#         cipher_words.append(cipher)\n",
    "#     return \" \".join(cipher_words)\n",
    "\n",
    "# def decrypt(c, k):\n",
    "#     return encrypt(c, -k)\n",
    "\n",
    "# for i in range(28):\n",
    "#     results = decrypt(cipher_text, i).split()\n",
    "#     for word in results:\n",
    "#         if word == \"Nice\".upper():\n",
    "#             print(results, i)"
   ]
  },
  {
   "cell_type": "code",
   "execution_count": 3,
   "metadata": {},
   "outputs": [
    {
     "ename": "ModuleNotFoundError",
     "evalue": "No module named 'nltk'",
     "output_type": "error",
     "traceback": [
      "\u001b[0;31m---------------------------------------------------------------------------\u001b[0m",
      "\u001b[0;31mModuleNotFoundError\u001b[0m                       Traceback (most recent call last)",
      "\u001b[0;32m/tmp/ipykernel_18104/3708167870.py\u001b[0m in \u001b[0;36m<module>\u001b[0;34m\u001b[0m\n\u001b[0;32m----> 1\u001b[0;31m \u001b[0;32mimport\u001b[0m \u001b[0mnltk\u001b[0m\u001b[0;34m\u001b[0m\u001b[0;34m\u001b[0m\u001b[0m\n\u001b[0m\u001b[1;32m      2\u001b[0m \u001b[0;32mimport\u001b[0m \u001b[0mre\u001b[0m\u001b[0;34m\u001b[0m\u001b[0;34m\u001b[0m\u001b[0m\n\u001b[1;32m      3\u001b[0m \u001b[0;34m\u001b[0m\u001b[0m\n\u001b[1;32m      4\u001b[0m \u001b[0mnltk\u001b[0m\u001b[0;34m.\u001b[0m\u001b[0mdownload\u001b[0m\u001b[0;34m(\u001b[0m\u001b[0;34m'words'\u001b[0m\u001b[0;34m,\u001b[0m \u001b[0mquiet\u001b[0m\u001b[0;34m=\u001b[0m\u001b[0;32mTrue\u001b[0m\u001b[0;34m)\u001b[0m\u001b[0;34m\u001b[0m\u001b[0;34m\u001b[0m\u001b[0m\n\u001b[1;32m      5\u001b[0m \u001b[0mnltk\u001b[0m\u001b[0;34m.\u001b[0m\u001b[0mdownload\u001b[0m\u001b[0;34m(\u001b[0m\u001b[0;34m'names'\u001b[0m\u001b[0;34m,\u001b[0m \u001b[0mquiet\u001b[0m\u001b[0;34m=\u001b[0m\u001b[0;32mTrue\u001b[0m\u001b[0;34m)\u001b[0m\u001b[0;34m\u001b[0m\u001b[0;34m\u001b[0m\u001b[0m\n",
      "\u001b[0;31mModuleNotFoundError\u001b[0m: No module named 'nltk'"
     ]
    }
   ],
   "source": [
    "# import nltk\n",
    "# import re\n",
    "\n",
    "# nltk.download('words', quiet=True)\n",
    "# nltk.download('names', quiet=True)\n",
    "\n",
    "# from nltk.corpus import words, names\n",
    "\n",
    "# word_list = words.words()\n",
    "# name_list = names.words()\n",
    "\n",
    "# word_list\n",
    "\n",
    "# candidates = [\n",
    "#     \"a dark and stormy night\",\n",
    "#     \"n qnex naq fgbezl avtug\",\n",
    "#     \"j mjat jwm bcxavh wrpqc\",\n",
    "#     \"call me Ishmael\",\n",
    "#     \"Billy Pilgrim has become unstuck in time\",\n",
    "#     \"All happy families are alike; each unhappy family is unhappy in its own way.\",\n",
    "#     '\"Where\\'s Papa going with that ax?\" said Fern to her mother as they were setting the table for breakfast.',\n",
    "#     \"Off the hizzle fo shizzle\",\n",
    "# ]\n",
    "\n",
    "# def count_words(phrase) -> int:\n",
    "#   \"\"\"\n",
    "#   Counts the amount of english words in a string\n",
    "#   \"\"\"\n",
    "#   # split the string into an array\n",
    "#   words = phrase.split()\n",
    "#   word_count = 0\n",
    "#   for word in words:\n",
    "#     clean_word = re.sub(r'[^A-Za-z]','',word)\n",
    "#     # check if each word is found in either the word list or name\n",
    "#     if clean_word.lower() in word_list or clean_word in name_list:\n",
    "#       # increment word count\n",
    "#       word_count += 1\n",
    "#     else:\n",
    "#       # print('Not recognized as word or name', word)\n",
    "#       pass\n",
    "#   # return the length\n",
    "#   return word_count\n",
    "\n",
    "# for phrase in candidates:\n",
    "#   word_count = count_words(phrase)\n",
    "#   total_words = len(phrase.split())\n",
    "#   ratio =  word_count / total_words\n",
    "\n",
    "#   percentage = ratio * 100\n",
    "#   threshold = 80\n",
    "#   if percentage > threshold:\n",
    "#     print(phrase, percentage)"
   ]
  }
 ],
 "metadata": {
  "interpreter": {
   "hash": "11f0c249de050905644f22c242a1d091f7a39fa2e3a64610573d760b770e7f8d"
  },
  "kernelspec": {
   "display_name": "Python 3.8.10 64-bit ('.venv': poetry)",
   "name": "python3"
  },
  "language_info": {
   "codemirror_mode": {
    "name": "ipython",
    "version": 3
   },
   "file_extension": ".py",
   "mimetype": "text/x-python",
   "name": "python",
   "nbconvert_exporter": "python",
   "pygments_lexer": "ipython3",
   "version": "3.8.10"
  },
  "orig_nbformat": 4
 },
 "nbformat": 4,
 "nbformat_minor": 2
}
